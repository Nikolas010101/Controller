{
 "cells": [
  {
   "cell_type": "code",
   "execution_count": null,
   "metadata": {},
   "outputs": [],
   "source": [
    "import cv2, numpy as np\n",
    "from json import dumps\n",
    "from flask import Flask\n",
    "from mediapipe import solutions"
   ]
  },
  {
   "cell_type": "code",
   "execution_count": null,
   "metadata": {},
   "outputs": [],
   "source": [
    "app = Flask(__name__)\n",
    "cap = cv2.VideoCapture(0)\n",
    "WIDTH, HEIGHT = cap.get(cv2.CAP_PROP_FRAME_WIDTH), cap.get(cv2.CAP_PROP_FRAME_HEIGHT)\n",
    "mp_face_mesh = solutions.face_mesh\n",
    "face = mp_face_mesh.FaceMesh(min_tracking_confidence = 0.6, min_detection_confidence = 0.6)\n",
    "draw = solutions.drawing_utils"
   ]
  },
  {
   "cell_type": "code",
   "execution_count": null,
   "metadata": {},
   "outputs": [],
   "source": [
    "with mp_face_mesh.FaceMesh() as face_mesh:\n",
    "    while True:\n",
    "        ok, frame = cap.read()\n",
    "        if not ok:\n",
    "            continue\n",
    "        op = face.process(frame)\n",
    "        if op.multi_face_landmarks:\n",
    "            face_landmarks = op.multi_face_landmarks[0].landmark\n",
    "            coord_centro = np.array(solutions.drawing_utils._normalized_to_pixel_coordinates(\n",
    "                face_landmarks[1].x, face_landmarks[1].y, WIDTH, HEIGHT\n",
    "            ))\n",
    "            cv2.imshow(\"Video\", cv2.putText(cv2.rectangle(frame, coord_centro-np.array([5, 5]), coord_centro+np.array([5, 5]), (0, 255, 0)), f\"Centro: {coord_centro[0], coord_centro[1]}\", (0, 40), cv2.FONT_HERSHEY_COMPLEX, 1, (0, 0, 0)))\n",
    "            if cv2.waitKey(5) & 0xFF == ord('q'):\n",
    "                cv2.destroyAllWindows()\n",
    "                break"
   ]
  },
  {
   "cell_type": "code",
   "execution_count": null,
   "metadata": {},
   "outputs": [],
   "source": [
    "@app.route(\"/coord\")\n",
    "def get_face_center():\n",
    "    ok, frame = cap.read()\n",
    "    if not ok:\n",
    "        return dumps([0, 0])\n",
    "    op = face.process(frame)\n",
    "    if op.multi_face_landmarks:\n",
    "        face_landmarks = op.multi_face_landmarks[0].landmark\n",
    "        return dumps(solutions.drawing_utils._normalized_to_pixel_coordinates(\n",
    "            face_landmarks[1].x, face_landmarks[1].y, WIDTH, HEIGHT\n",
    "        ))"
   ]
  },
  {
   "cell_type": "code",
   "execution_count": null,
   "metadata": {},
   "outputs": [],
   "source": [
    "app.run(port=8080)"
   ]
  }
 ],
 "metadata": {
  "kernelspec": {
   "display_name": "Python 3",
   "language": "python",
   "name": "python3"
  },
  "language_info": {
   "codemirror_mode": {
    "name": "ipython",
    "version": 3
   },
   "file_extension": ".py",
   "mimetype": "text/x-python",
   "name": "python",
   "nbconvert_exporter": "python",
   "pygments_lexer": "ipython3",
   "version": "3.10.12"
  }
 },
 "nbformat": 4,
 "nbformat_minor": 2
}

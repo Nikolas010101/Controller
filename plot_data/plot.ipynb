{
 "cells": [
  {
   "cell_type": "code",
   "execution_count": 1,
   "metadata": {},
   "outputs": [],
   "source": [
    "import serial, numpy as np, pandas as pd\n",
    "from matplotlib import pyplot as plt"
   ]
  },
  {
   "cell_type": "code",
   "execution_count": 2,
   "metadata": {},
   "outputs": [],
   "source": [
    "time, output, err, control = [], [], [], []"
   ]
  },
  {
   "cell_type": "code",
   "execution_count": 3,
   "metadata": {},
   "outputs": [],
   "source": [
    "BAUDRATE = 9600\n",
    "\n",
    "serial_port = \"/dev/ttyUSB0\"\n",
    "\n",
    "ser = serial.Serial(serial_port, BAUDRATE, timeout=1)\n",
    "\n",
    "try:\n",
    "    while True:\n",
    "        line = ser.readline().decode(\"utf-8\").strip()\n",
    "        if line:\n",
    "            data = line.split(\",\")\n",
    "            time.append(data[0])\n",
    "            output.append(data[1])\n",
    "            err.append(data[2])\n",
    "            control.append(data[3])\n",
    "except KeyboardInterrupt:\n",
    "    ser.close()"
   ]
  },
  {
   "cell_type": "code",
   "execution_count": 16,
   "metadata": {},
   "outputs": [
    {
     "data": {
      "text/html": [
       "<div>\n",
       "<style scoped>\n",
       "    .dataframe tbody tr th:only-of-type {\n",
       "        vertical-align: middle;\n",
       "    }\n",
       "\n",
       "    .dataframe tbody tr th {\n",
       "        vertical-align: top;\n",
       "    }\n",
       "\n",
       "    .dataframe thead th {\n",
       "        text-align: right;\n",
       "    }\n",
       "</style>\n",
       "<table border=\"1\" class=\"dataframe\">\n",
       "  <thead>\n",
       "    <tr style=\"text-align: right;\">\n",
       "      <th></th>\n",
       "      <th>Time</th>\n",
       "      <th>Output</th>\n",
       "      <th>Error</th>\n",
       "      <th>Control</th>\n",
       "    </tr>\n",
       "  </thead>\n",
       "  <tbody>\n",
       "    <tr>\n",
       "      <th>0</th>\n",
       "      <td>0.005000</td>\n",
       "      <td>0.000000</td>\n",
       "      <td>2.000000</td>\n",
       "      <td>33.826263</td>\n",
       "    </tr>\n",
       "    <tr>\n",
       "      <th>1</th>\n",
       "      <td>0.011240</td>\n",
       "      <td>0.000000</td>\n",
       "      <td>2.000000</td>\n",
       "      <td>33.079536</td>\n",
       "    </tr>\n",
       "    <tr>\n",
       "      <th>2</th>\n",
       "      <td>0.043536</td>\n",
       "      <td>0.000000</td>\n",
       "      <td>2.000000</td>\n",
       "      <td>32.403931</td>\n",
       "    </tr>\n",
       "    <tr>\n",
       "      <th>3</th>\n",
       "      <td>0.083056</td>\n",
       "      <td>0.068426</td>\n",
       "      <td>1.931574</td>\n",
       "      <td>30.635368</td>\n",
       "    </tr>\n",
       "    <tr>\n",
       "      <th>4</th>\n",
       "      <td>0.122572</td>\n",
       "      <td>0.136852</td>\n",
       "      <td>1.863148</td>\n",
       "      <td>28.950579</td>\n",
       "    </tr>\n",
       "    <tr>\n",
       "      <th>...</th>\n",
       "      <td>...</td>\n",
       "      <td>...</td>\n",
       "      <td>...</td>\n",
       "      <td>...</td>\n",
       "    </tr>\n",
       "    <tr>\n",
       "      <th>182</th>\n",
       "      <td>6.993852</td>\n",
       "      <td>1.964809</td>\n",
       "      <td>0.035191</td>\n",
       "      <td>0.441762</td>\n",
       "    </tr>\n",
       "    <tr>\n",
       "      <th>183</th>\n",
       "      <td>7.032332</td>\n",
       "      <td>1.964809</td>\n",
       "      <td>0.035191</td>\n",
       "      <td>0.443236</td>\n",
       "    </tr>\n",
       "    <tr>\n",
       "      <th>184</th>\n",
       "      <td>7.070812</td>\n",
       "      <td>1.940371</td>\n",
       "      <td>0.059629</td>\n",
       "      <td>0.857892</td>\n",
       "    </tr>\n",
       "    <tr>\n",
       "      <th>185</th>\n",
       "      <td>7.109292</td>\n",
       "      <td>1.964809</td>\n",
       "      <td>0.035191</td>\n",
       "      <td>0.436651</td>\n",
       "    </tr>\n",
       "    <tr>\n",
       "      <th>186</th>\n",
       "      <td>7.147772</td>\n",
       "      <td>1.964809</td>\n",
       "      <td>0.035191</td>\n",
       "      <td>0.438612</td>\n",
       "    </tr>\n",
       "  </tbody>\n",
       "</table>\n",
       "<p>187 rows × 4 columns</p>\n",
       "</div>"
      ],
      "text/plain": [
       "         Time    Output     Error    Control\n",
       "0    0.005000  0.000000  2.000000  33.826263\n",
       "1    0.011240  0.000000  2.000000  33.079536\n",
       "2    0.043536  0.000000  2.000000  32.403931\n",
       "3    0.083056  0.068426  1.931574  30.635368\n",
       "4    0.122572  0.136852  1.863148  28.950579\n",
       "..        ...       ...       ...        ...\n",
       "182  6.993852  1.964809  0.035191   0.441762\n",
       "183  7.032332  1.964809  0.035191   0.443236\n",
       "184  7.070812  1.940371  0.059629   0.857892\n",
       "185  7.109292  1.964809  0.035191   0.436651\n",
       "186  7.147772  1.964809  0.035191   0.438612\n",
       "\n",
       "[187 rows x 4 columns]"
      ]
     },
     "execution_count": 16,
     "metadata": {},
     "output_type": "execute_result"
    }
   ],
   "source": [
    "df = pd.read_csv(\"data/step_controller.csv\")\n",
    "df"
   ]
  },
  {
   "cell_type": "code",
   "execution_count": 17,
   "metadata": {},
   "outputs": [
    {
     "data": {
      "image/png": "[encoded data removed]",
      "text/plain": [
       "<Figure size 640x480 with 1 Axes>"
      ]
     },
     "metadata": {},
     "output_type": "display_data"
    }
   ],
   "source": [
    "plt.plot(df[\"Time\"], df[\"Output\"])\n",
    "plt.grid()"
   ]
  }
 ],
 "metadata": {
  "kernelspec": {
   "display_name": "Python 3",
   "language": "python",
   "name": "python3"
  },
  "language_info": {
   "codemirror_mode": {
    "name": "ipython",
    "version": 3
   },
   "file_extension": ".py",
   "mimetype": "text/x-python",
   "name": "python",
   "nbconvert_exporter": "python",
   "pygments_lexer": "ipython3",
   "version": "3.10.12"
  }
 },
 "nbformat": 4,
 "nbformat_minor": 2
}
